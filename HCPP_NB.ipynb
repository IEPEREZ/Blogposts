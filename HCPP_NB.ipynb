{
 "cells": [
  {
   "cell_type": "code",
   "execution_count": 2,
   "metadata": {},
   "outputs": [
    {
     "name": "stdout",
     "output_type": "stream",
     "text": [
      "/Users/ivan/Documents/GoreInterview\n"
     ]
    }
   ],
   "source": [
    "import numpy as np\n",
    "import matplotlib.pyplot as plt\n",
    "import datetime as dt\n",
    "from datetime import  timedelta\n",
    "import pandas as pd\n",
    "import math\n",
    "import scipy.stats as stats\n",
    "import os\n",
    "print(os.getcwd())"
   ]
  },
  {
   "cell_type": "markdown",
   "metadata": {},
   "source": [
    "## Step 1: Defining a time-Homogeneous Compound Poisson Process(HCPP) Simulator\n",
    "We employ methods from Karl Sigman, http://www.columbia.edu/~ks20/4404-Sigman/4404-Notes-NSP.pdf\n",
    "to simulate a HCPP, where the indexing Poisson Process has a mean rate of $\\lambda t$, and the \n",
    "indexed random variables Y_i are Normally distributed with parameters $(\\mu, \\sigma^2)$.\n",
    "The default parameters for this simulator follow the presentation such that $(\\lambda, \\mu, sigma^2) = (1,0, 0.0018)$.\n",
    "The default HCPP period length is 60 seconds. "
   ]
  },
  {
   "cell_type": "code",
   "execution_count": 19,
   "metadata": {},
   "outputs": [],
   "source": [
    "# poisson process \n",
    "from cmath import log\n",
    "from copy import copy\n",
    "class hcpp():\n",
    "    \"\"\"\n",
    "    Atributtes\n",
    "    ----------\n",
    "    lam : float\n",
    "        set defect arrival rate lambda.\n",
    "    mu : float\n",
    "        set mean defect size.\n",
    "    sig2: float\n",
    "        set variance of defect size, under the assumption of normally\n",
    "        distributed defect sizes. \n",
    "    period_length : float\n",
    "        length of HCPP simulation in seconds.\n",
    "    now : datetime object\n",
    "        time when class is initiated, referece 0 time. \n",
    "    timestamps : list\n",
    "        list of timestamps of HCPP arrvials.\n",
    "    rvs : list\n",
    "        list of the size of random variables(RV). \n",
    "        must be same length as timestamps.\n",
    "    hcpp_process = list\n",
    "        list of cumulative sum of HCPP process. \n",
    "\n",
    "    Methods\n",
    "    -------\n",
    "    get_hcpp_arrival()\n",
    "        Generates HCPP RV with timestamp and size.\n",
    "    get_hcpp_sequence()\n",
    "        Generates a sequence of HCPP RVs.\n",
    "    convert_tstamp_to_sec()\n",
    "        Converts list of timestamps, self.timestamps to a list of timepoints in seconds.\n",
    "    \"\"\"\n",
    "    def __init__(self):\n",
    "        self.lam = 1.0\n",
    "        self.mu,self.sig2 = 0.5, 0.05\n",
    "        self.period_length = 60.0\n",
    "        self.now = dt.datetime.now()\n",
    "        self.timestamps = [copy(self.now)]\n",
    "        self.rvs = [0]\n",
    "        self.hcpp_process = [0]\n",
    "        \n",
    "    def get_hcpp_arrival(self):\n",
    "        \"\"\"\n",
    "        Generates HCPP RV with timestamp and size.\n",
    "        \"\"\"\n",
    "        arrival_time = (-1/self.lam)*math.log(np.random.default_rng().uniform())\n",
    "        self.now += dt.timedelta(seconds = arrival_time)\n",
    "        rv = np.random.default_rng().normal(self.mu,self.sig2)\n",
    "        return self.now, rv\n",
    "\n",
    "    def get_hcpp_sequence(self):\n",
    "        \"\"\"\n",
    "        Generates a sequence of HCPP RVs.\n",
    "        Updates the HCPP process. \n",
    "        \"\"\"\n",
    "        period_end = copy(self.now) + dt.timedelta(seconds = self.period_length)\n",
    "        while self.now < period_end:\n",
    "            arrivaltime, rv = self.get_hcpp_arrival()\n",
    "            hcpp_proc = self.hcpp_process[-1] + rv\n",
    "            self.rvs.append(rv)\n",
    "            self.timestamps.append(arrivaltime)\n",
    "            self.hcpp_process.append(hcpp_proc)\n",
    "\n",
    "def convert_tstamp_to_sec(timestamps):\n",
    "    \"\"\"\n",
    "    Converts list of timestamps, self.timestamps to a list of timepoints in seconds.\n",
    "    \"\"\"\n",
    "    return [(tstamp - timestamps[0]).total_seconds() for tstamp in timestamps]"
   ]
  },
  {
   "cell_type": "markdown",
   "metadata": {},
   "source": [
    "## Step 2: Generating a Sequence of HCPP Random Variables (RV)\n",
    "For a set $(\\lambda, \\mu, \\sigma^2) = (1,0, 0.0018)$, we simulate a HCPP for 60 seconds, and plot the results below. \n"
   ]
  },
  {
   "cell_type": "code",
   "execution_count": 20,
   "metadata": {},
   "outputs": [
    {
     "name": "stdout",
     "output_type": "stream",
     "text": [
      "The mean size and number of the defects were estimated to be 0.48768 mm, and 0.9508 defects per second.\n"
     ]
    },
    {
     "data": {
      "image/png": "[encoded data removed]",
      "text/plain": [
       "<Figure size 432x288 with 1 Axes>"
      ]
     },
     "metadata": {
      "needs_background": "light"
     },
     "output_type": "display_data"
    }
   ],
   "source": [
    "hcpp_inst = hcpp()\n",
    "hcpp_inst.get_hcpp_sequence()\n",
    "\n",
    "print(\n",
    "    \"The mean size and number of the defects were estimated to be {} mm, and {} defects per second.\".format(\n",
    "        round(np.mean(hcpp_inst.rvs),5),round(len(hcpp_inst.rvs)/(hcpp_inst.timestamps[-1]-hcpp_inst.timestamps[0]).total_seconds(),4)\n",
    "    ))\n",
    "timepoints = convert_tstamp_to_sec(hcpp_inst.timestamps)\n",
    "rvs = hcpp_inst.hcpp_process\n",
    "\n",
    "def plot_HCPP_Process(timepoints,rvs,ticksize=5,params='(\\u03BB, \\u03BC) = (1.0, 0.0)',figtitle=\"fig1\"):\n",
    "    plt.scatter(x=timepoints, y=rvs, s=2)\n",
    "    plt.title(\"Simulated HCPP Process with parameters {}\".format(params))\n",
    "    plt.xticks(np.arange(min(timepoints), max(timepoints), ticksize))\n",
    "    plt.xlabel(\"time (seconds)\")\n",
    "    plt.ylabel(\"HCPP Process (Defect Size = mm)\")\n",
    "    plt.savefig(figtitle,dpi=100)\n",
    "    plt.show()\n",
    "\n",
    "plot_HCPP_Process(timepoints, rvs, figtitle=\"fig_single_HCPP.jpg\")"
   ]
  },
  {
   "cell_type": "markdown",
   "metadata": {},
   "source": [
    "## Step 3: Testing Goodness of Fit (GOF) for Simulated HCPP.\n",
    "To confirm whether the HCPP process follows each individual distribution we use:\n",
    "\n",
    "1. MLE estimator and $\\chi^2$ Goodness of Fit test for parameter, $\\lambda$,\n",
    "\n",
    "2. Lilliefor's test of Normality for *size* random variables we assumed were normally distributed.\n",
    "  \n",
    "  *Note: While Lilliefor's test was not covered in this presentation you can learn more at,\n",
    "  http://www.columbia.edu/~ww2040/NHPP_NRL_final.pdf\n",
    "\n",
    "For the $\\chi^2$ test where the MLE estimate of the mean No. of defects in a period length $t$ is $\\hat \\lambda t$ the Hypotheses are:\n",
    "\n",
    "$\\qquad H_0$: The mean rate of order arrival in a 1s increment $ = \\hat \\lambda t$.\n",
    "\n",
    "$\\qquad H_1$: The mean rate of order arrival in a 1s increment $ \\neq \\hat \\lambda t$.\n",
    "\n",
    "For the Lilliefor's test of Normality is a non parametric test, so we take the hypotheses to be:\n",
    "\n",
    "$\\qquad H_0$: The size of defects $Y_0, Y_1, \\ldots Y_{N(t)}$ are normally distributed.\n",
    "\n",
    "$\\qquad H_1$: The size of defects $Y_0, Y_1, \\ldots Y_{N(t)}$ are not normally distributed."
   ]
  },
  {
   "cell_type": "code",
   "execution_count": 21,
   "metadata": {},
   "outputs": [
    {
     "name": "stdout",
     "output_type": "stream",
     "text": [
      "chi square value determined by formula : 58.865254237288134\n",
      "chi square critical value at alpha = 0.05: 81.3810151888991\n",
      "KS value determined by lilliefors test: 0.15413892501473478\n",
      "KS critical value at alpha = 0.05: 0.17373142290901578\n"
     ]
    }
   ],
   "source": [
    "from statsmodels.stats.diagnostic import lilliefors\n",
    "from scipy.stats import ksone\n",
    "def compute_gof(hcpp_inst,distr,alpha):\n",
    "    df = pd.Series(hcpp_inst.rvs, index = hcpp_inst.timestamps)\n",
    "    dfrs = df.resample('s').agg({'Poisson':'size','Exponential':'sum'})\n",
    "    if distr == 'poisson':\n",
    "        Obs = dfrs['Poisson']\n",
    "        hatlamt = dfrs['Poisson'].sum()/hcpp_inst.period_length\n",
    "        Exp = [hatlamt]*len(Obs)\n",
    "        chi_square_test_stat = 0\n",
    "        for i in range(len(Obs)):\n",
    "            chi_square_test_stat += (np.square(Obs[i]-Exp[i]))/Exp[i]\n",
    "        print('chi square value determined by formula : ' +\n",
    "            str(chi_square_test_stat))     \n",
    "        print('chi square critical value at alpha = {}: {}'.format(alpha, stats.chi2.ppf(1-alpha, df=len(Obs)-1)))\n",
    "    elif distr == 'norm' or 'exp':\n",
    "        ksstat, pval = lilliefors(hcpp_inst.rvs, dist=distr)\n",
    "        print(\"KS value determined by lilliefors test:\", ksstat)\n",
    "        print('KS critical value at alpha = {}: {}'.format(alpha, ksone.ppf(1-(alpha/2),len(hcpp_inst.rvs))))\n",
    "    else:\n",
    "        print(\"please write 'poisson', 'exp','norm' as arg for dist.\")   \n",
    "    \n",
    "#Chi-Sq for Poisson\n",
    "compute_gof(hcpp_inst, 'poisson',0.05)\n",
    "  \n",
    "#Lilliefor's for Normally or Exponential\n",
    "compute_gof(hcpp_inst, 'norm', 0.05)"
   ]
  },
  {
   "cell_type": "markdown",
   "metadata": {},
   "source": [
    "### Evaluating Results from GOF tests:\n",
    "We see that neither computed statistic, $\\chi^2$ and $KS_{stat}$, exceeded their critical values at an $\\alpha = 0.05$.\n",
    "We can conclude for now that we can\n",
    "\n",
    "1. simulate a HCPP process $Q(t)$,\n",
    "  \n",
    "    * with an indexing Poisson process with mean rate of arrival $\\lambda$,\n",
    "\n",
    "    * time-invariant Normally distributed process $Y_{N(t)}$ with mean, $\\mu$, and variance $\\sigma^2$.\n",
    "\n",
    "2. We can estimate, and assess goodness of fit of\n",
    "  \n",
    "    * the mean no of defects $\\hat \\lambda t$using the $\\chi^2$ GOF test.\n",
    "  \n",
    "    * the parameters $(\\hat \\mu,\\hat \\sigma^2)$ using Lilliefor's test.\n",
    "\n",
    "## Step 4: Simulating a HCPP with a changepoint to an increased rate of Defect Arrivals\n",
    "Next we will simulate a HCPP that:\n",
    "    \n",
    "1. Begins at an initial $\\lambda_0 = 1$ Defect/s,\n",
    "    \n",
    "2. proceeds with this $\\lambda_0$ for 60 seconds,\n",
    "    \n",
    "3. changes its rate of Defect arrival to $\\lambda_1 = 5$ Defects/s,\n",
    "    \n",
    "4. finally proceeds with this $\\lambda_0$ for 60 seconds."
   ]
  },
  {
   "cell_type": "code",
   "execution_count": 22,
   "metadata": {},
   "outputs": [
    {
     "name": "stdout",
     "output_type": "stream",
     "text": [
      "1.4528662053695391\n",
      "0.45573198775984236\n",
      "0.45573198775984236\n"
     ]
    },
    {
     "data": {
      "image/png": "[encoded data removed]",
      "text/plain": [
       "<Figure size 432x288 with 1 Axes>"
      ]
     },
     "metadata": {
      "needs_background": "light"
     },
     "output_type": "display_data"
    }
   ],
   "source": [
    "hcpp_inst = hcpp()\n",
    "hcpp_inst.period_length = 5\n",
    "hcpp_inst.get_hcpp_sequence()\n",
    "lam_est = len(hcpp_inst.rvs)/(hcpp_inst.timestamps[-1]-hcpp_inst.timestamps[0]).total_seconds()\n",
    "mu_est = np.mean(hcpp_inst.rvs)\n",
    "print(lam_est)\n",
    "print(np.mean(hcpp_inst.rvs))\n",
    "hcpp_inst.lam = 5\n",
    "hcpp_inst.get_hcpp_sequence()\n",
    "print(mu_est)\n",
    "timepoints = convert_tstamp_to_sec(hcpp_inst.timestamps)\n",
    "plot_HCPP_Process(timepoints, hcpp_inst.hcpp_process, ticksize=10,params=\"(\\u03BB 0, \\u03BC 0) = (1, 0.05,) and (\\u03BB 1, \\u03BC 1) = (5, 0.05) \")"
   ]
  },
  {
   "cell_type": "code",
   "execution_count": 9,
   "metadata": {},
   "outputs": [
    {
     "name": "stdout",
     "output_type": "stream",
     "text": [
      "chi square value determined by formula : 317.6510156971373\n",
      "chi square critical value at alpha = 0.05: 146.56735758076744\n",
      "KS value determined by lilliefors test: 0.057571917082879315\n",
      "KS critical value at alpha = 0.05: 0.07100041370574829\n"
     ]
    }
   ],
   "source": [
    "# #Poisson \n",
    "compute_gof(hcpp_inst, 'poisson',0.05)\n",
    "  \n",
    "# find Chi-Square critical value\n",
    "compute_gof(hcpp_inst, 'norm', 0.05)"
   ]
  },
  {
   "cell_type": "markdown",
   "metadata": {},
   "source": [
    "## Step 6: GOF test results\n",
    "We see that only the $\\chi^2$ statistic exceeded its critical values at an $\\alpha = 0.05$.\n",
    "\n",
    "This creates a new problem! Suppose at some unknown time $\\nu$, the rate of Defect arrival changes from $\\lambda_0$ to $\\lambda_1$.\n",
    "How do develop a change point detection scheme to identify when this change occurs. \n",
    "## Step 7: CUSUM Changepoint Detection Scheme \n",
    "Starting again with our HCPP process, $\\{Q(t)\\}_{t\\geq0}$ with mean $\\lambda_0 \\mu t$, where $\\lambda_1^+=(1+\\epsilon)\\lambda_0$, $\\lambda_1^-= (1-\\epsilon)\\lambda_0$, $\\{h, \\lambda_0, \\epsilon, \\mu \\} \\in \\mathbb{R^+}$ we can define the CUSUM class that generates 6 processes:\n",
    "\n",
    "1.$ u^+_t (\\lambda_0, \\mu)$; The SPRT process to detect a change from a upward change.\n",
    "\n",
    "2.$ m^+_t (\\lambda_0, \\mu)$; The running minimum of the upward SPRT process, $u^+_t$.\n",
    "\n",
    "3.$u^-_t (\\lambda_0,\\mu)$; The SPRT process to detect a change from a downward change.\n",
    "                \n",
    "4.$m^-_t (\\lambda_0,\\mu)$; The running minimum of the downward SPRT process, $u^-_t$.\n",
    "\n",
    "5.$y^+_t (\\lambda_0, \\mu)$; The CUSUM process for an upward change.\n",
    "\n",
    "6.$y^-_t (\\lambda_0, \\mu)$; The CUSUM process for an downward change.\n",
    "\n",
    "This CUSUM detection scheme will identify the CUSUM stopping time $\\tau$:\n",
    "$$ \\tau = \\inf \\{ t \\geq 0; y^+_t(\\lambda_0, \\mu) \\lor y^-_t(\\lambda_0, \\mu) \\geq h \\} $$"
   ]
  },
  {
   "cell_type": "code",
   "execution_count": 23,
   "metadata": {},
   "outputs": [],
   "source": [
    "class CUSUM(object): \n",
    "    def __init__(self, timestamp=dt.datetime(1900,1,1), l0=1.0, epsilon = 0.01, h = 0.0001):\n",
    "        # from args\n",
    "        self.l0 = l0\n",
    "        self.deltatime = 0.0\n",
    "        self.h = h\n",
    "        self.Y = 0\n",
    "        self.epsilon = epsilon\n",
    "        self.alarm_up,self.alarm_dn = False, False \n",
    "        self.timestamp = timestamp\n",
    "        self.entries = []\n",
    "        #derived\n",
    "        self.SPRT_dn, self.SPRT_up = 0.0, 0.0\n",
    "        self.run_min_dn, self.run_min_up = 0.0, 0.0\n",
    "        self.CUSUM_dn, self.CUSUM_up = 0.0, 0.0\n",
    "        self.write_to_df()\n",
    "\n",
    "    def reset_CUSUM(self):\n",
    "        self.SPRT_dn, self.SPRT_up = 0.0, 0.0\n",
    "        self.run_min_dn, self.run_min_up = 0.0, 0.0\n",
    "        self.CUSUM_dn, self.CUSUM_up = 0.0, 0.0\n",
    "        self.alarm_up,self.alarm_dn = False, False \n",
    "\n",
    "    def compute_stats(self, Y, deltatime, timestamp):\n",
    "        self.Y = Y\n",
    "        self.timestamp = timestamp\n",
    "        self.SPRT_up +=  Y*math.log(1 + self.epsilon) - deltatime*self.l0*self.epsilon\n",
    "        self.SPRT_dn +=  Y*math.log(1 - self.epsilon) + deltatime*self.l0*self.epsilon\n",
    "        self.run_min_up = min(self.run_min_up, self.SPRT_up)\n",
    "        self.run_min_dn = min(self.run_min_dn, self.SPRT_dn)\n",
    "        self.CUSUM_up = self.SPRT_up - self.run_min_up\n",
    "        self.CUSUM_dn = self.SPRT_dn - self.run_min_dn\n",
    "    \n",
    "    def check_alarms(self):\n",
    "        if self.CUSUM_dn > self.h:\n",
    "            self.alarm_dn = True\n",
    "            self.l0 = self.l0*(1-self.epsilon)\n",
    "        else:\n",
    "            self.alarm_dn = False\n",
    "\n",
    "        if self.CUSUM_up > self.h:\n",
    "            self.alarm_up = True \n",
    "            self.l0 = self.l0*(1+self.epsilon)\n",
    "        else:\n",
    "            self.alarm_up = False\n",
    "\n",
    "    \n",
    "    def write_to_df(self):\n",
    "        record_to_insert = {\n",
    "                    'timestamp':self.timestamp,\n",
    "                    'size':self.Y,\n",
    "                    'SPRTup':self.SPRT_up,\n",
    "                    'runminup':self.run_min_up,\n",
    "                    'CUSUMup':self.CUSUM_up,\n",
    "                    'SPRTdn':self.SPRT_dn,\n",
    "                    'runmindn':self.run_min_dn,\n",
    "                    'CUSUMdn':self.CUSUM_dn, \n",
    "                    'alarmup':self.alarm_up,\n",
    "                    'alarmdn':self.alarm_dn,\n",
    "        } \n",
    "        self.entries.append(record_to_insert)\n",
    "\n",
    "    def Update(self, Y, deltatime, timestamp):\n",
    "        self.compute_stats(Y=Y, deltatime=deltatime,timestamp=timestamp)\n",
    "        self.check_alarms()\n",
    "        self.write_to_df()\n",
    "        if self.alarm_up or self.alarm_dn:\n",
    "            self.reset_CUSUM()"
   ]
  },
  {
   "cell_type": "markdown",
   "metadata": {},
   "source": [
    "## Step 8: Trying Out our CUSUM Changepoint Detection Scheme\n",
    "Lets try to use our change point detection scheme to identify a stopping time $\\tau$ where we can say the simulated HCPP no longer has the mean rate $\\lambda0$. We will:\n",
    "    \n",
    "1. Generate a HCPP with $\\lambda_0 = 1$ Defect/s, that runs for 60 seconds.\n",
    "\n",
    "2. Record estimates for $\\hat \\lambda_0 \\hat \\mu t for that initial run.\n",
    "\n",
    "3. Start recording out CUSUM statistics, \n",
    "\n",
    "4. Continue simulating the HCPP for 60 more seconds,\n",
    "\n",
    "4. changes the HCPP rate of Defect arrival to $\\lambda_1 = 5$ Defects/s,\n",
    "    \n",
    "5. finally proceeds with this $\\lambda_0$ for 60 seconds.\n",
    "\n",
    "from this data, we will generate a table of the CUSUM statistics.\n"
   ]
  },
  {
   "cell_type": "code",
   "execution_count": 34,
   "metadata": {},
   "outputs": [
    {
     "name": "stdout",
     "output_type": "stream",
     "text": [
      "the estimated initial rate*size of defect arrivals is 1.5214395538247474\n"
     ]
    }
   ],
   "source": [
    "## lets try this test\n",
    "hcpp_inst = hcpp()\n",
    "hcpp_inst.period_length = 5\n",
    "hcpp_inst.get_hcpp_sequence()\n",
    "lammutest = len(hcpp_inst.rvs)*np.mean(hcpp_inst.rvs)\n",
    "print(\"the estimated initial rate*size of defect arrivals is {}\".format(lammutest))\n",
    "hcpp_inst.__init__()\n",
    "hcpp_inst.get_hcpp_sequence()\n",
    "hcpp_inst.lam=5\n",
    "hcpp_inst.get_hcpp_sequence()\n",
    "\n",
    "CUSUM_inst = CUSUM(timestamp = hcpp_inst.timestamps[0], l0=lammutest)\n",
    "CUSUM_inst.h = 0.05\n",
    "times = convert_tstamp_to_sec(hcpp_inst.timestamps)\n",
    "for i in range(1,len(times)):\n",
    "    deltatime = times[i] - times[i-1]\n",
    "    CUSUM_inst.Update(Y=hcpp_inst.rvs[i],deltatime = deltatime, timestamp =hcpp_inst.timestamps[i])\n",
    "    \n",
    "df = pd.DataFrame(CUSUM_inst.entries)\n",
    "df['time'] = convert_tstamp_to_sec(df['timestamp'])"
   ]
  },
  {
   "cell_type": "markdown",
   "metadata": {},
   "source": [
    "## Step 9 Plotting CUSUM Processes "
   ]
  },
  {
   "cell_type": "code",
   "execution_count": 47,
   "metadata": {},
   "outputs": [],
   "source": [
    "def CUSUM_SPRT_runmin_chart(df):\n",
    "    fig, ax = plt.subplots(3, sharex=True)\n",
    "    #top graph\n",
    "    ax[0].title.set_text('Defect CUSUMs Process')\n",
    "    ax[0].scatter(df['time'], df['CUSUMup'], s=1, color='purple', label='CUSUM up')\n",
    "    ax[0].scatter(df['time'], df['CUSUMdn'], s=1, color='green', label='CUSUM dn')\n",
    "    #middle graph\n",
    "    ax[1].title.set_text('SPRT processes')\n",
    "    ax[1].scatter(df['time'], df['SPRTup'], s=1, color='red', label='SPRT up')\n",
    "    ax[1].scatter(df['time'], df['SPRTdn'], s=1, color='blue', label='SPRT dn')\n",
    "    #bottom graph\n",
    "    ax[2].title.set_text('running min processes')\n",
    "    ax[2].scatter(df['time'], df['runminup'], s=1, color='blue', label='runmin up')\n",
    "    ax[2].scatter(df['time'], df['runmindn'], s=1, color='gold', label='runmin dn')\n",
    "    #label settings\n",
    "    ax[0].set_xlabel(\"Time (s)\")\n",
    "    ax[1].set_xlabel(\"Time (s)\")\n",
    "    ax[2].set_xlabel(\"Time (s)\")\n",
    "    plt.xlim(df['time'].iloc[0], df['time'].iloc[-1])\n",
    "    ax[0].set_ylabel(\"CUSUM Statistic\")\n",
    "    ax[1].set_ylabel(\"SPRT Statistic\")\n",
    "    ax[2].set_ylabel(\"runmin Statistic\")\n",
    "    #display options\n",
    "    for _ in range(3):\n",
    "        ax[_].legend(loc= 'center left',bbox_to_anchor=(1,0.5) )\n",
    "    plt.tight_layout()\n",
    "    plt.savefig(\"fig_3_CUSUM_construction.png\")\n",
    "    plt.show()"
   ]
  },
  {
   "cell_type": "code",
   "execution_count": 48,
   "metadata": {},
   "outputs": [
    {
     "data": {
      "image/png": "[encoded data removed]",
      "text/plain": [
       "<Figure size 432x288 with 3 Axes>"
      ]
     },
     "metadata": {
      "needs_background": "light"
     },
     "output_type": "display_data"
    }
   ],
   "source": [
    "CUSUM_SPRT_runmin_chart(df)"
   ]
  }
 ],
 "metadata": {
  "kernelspec": {
   "display_name": "Python 3.10.6 64-bit",
   "language": "python",
   "name": "python3"
  },
  "language_info": {
   "codemirror_mode": {
    "name": "ipython",
    "version": 3
   },
   "file_extension": ".py",
   "mimetype": "text/x-python",
   "name": "python",
   "nbconvert_exporter": "python",
   "pygments_lexer": "ipython3",
   "version": "3.10.6"
  },
  "orig_nbformat": 4,
  "vscode": {
   "interpreter": {
    "hash": "b0fa6594d8f4cbf19f97940f81e996739fb7646882a419484c72d19e05852a7e"
   }
  }
 },
 "nbformat": 4,
 "nbformat_minor": 2
}
