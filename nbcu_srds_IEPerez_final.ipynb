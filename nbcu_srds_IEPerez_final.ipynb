{
 "cells": [
  {
   "cell_type": "markdown",
   "metadata": {},
   "source": [
    "## Ivan E. Perez General Assessment for Sr. Data Scientist at NBCU \n",
    "### Part 1 - Python Assessment \n",
    "### 9/28/2022"
   ]
  },
  {
   "cell_type": "markdown",
   "metadata": {},
   "source": [
    "Step 1: Read the DATA sheet into a dataframe in Python"
   ]
  },
  {
   "cell_type": "code",
   "execution_count": 35,
   "metadata": {},
   "outputs": [
    {
     "name": "stdout",
     "output_type": "stream",
     "text": [
      "  eventdate series_name  episode_name                   site_name site_type  \\\n",
      "0   4/12/19   Blindspot  A Stray Howl          Dish Anywhere MVPD      MVPD   \n",
      "1   4/12/19   Blindspot  A Stray Howl            Bravo FireTV App     Watch   \n",
      "2   4/12/19   Blindspot  A Stray Howl  Bravo Samsung Smart TV App     Watch   \n",
      "3   4/12/19   Blindspot  A Stray Howl   Bravo Android Tablet Apps     Watch   \n",
      "4   4/12/19   Blindspot  A Stray Howl        Bravo Android TV App     Watch   \n",
      "\n",
      "   starts  \n",
      "0    1757  \n",
      "1    1741  \n",
      "2    1729  \n",
      "3    1637  \n",
      "4    1360  \n"
     ]
    }
   ],
   "source": [
    "# lets import data using pandas read_csv function\n",
    "import pandas as pd\n",
    "df = pd.read_csv(\"nbcu_part1_data.csv\") # moved DATA from the second sheet to its own csv\n",
    "print(df.head())"
   ]
  },
  {
   "cell_type": "markdown",
   "metadata": {},
   "source": [
    "Step 2: Add a column siteTypeStarts that holds the sum of starts of that series and site type (for example, total starts for The Office on MVPD). "
   ]
  },
  {
   "cell_type": "code",
   "execution_count": 37,
   "metadata": {},
   "outputs": [
    {
     "name": "stdout",
     "output_type": "stream",
     "text": [
      "['MVPD' 'Watch' 'DMVPD' 'SVOD']\n",
      "['Blindspot' 'Brooklyn Nine-Nine' 'Friends' 'Parks and Recreation'\n",
      " 'Superstore' 'The Office']\n",
      "  eventdate series_name  episode_name                   site_name site_type  \\\n",
      "0   4/12/19   Blindspot  A Stray Howl          Dish Anywhere MVPD      MVPD   \n",
      "1   4/12/19   Blindspot  A Stray Howl            Bravo FireTV App     Watch   \n",
      "2   4/12/19   Blindspot  A Stray Howl  Bravo Samsung Smart TV App     Watch   \n",
      "3   4/12/19   Blindspot  A Stray Howl   Bravo Android Tablet Apps     Watch   \n",
      "4   4/12/19   Blindspot  A Stray Howl        Bravo Android TV App     Watch   \n",
      "\n",
      "   starts  siteTypeStarts  \n",
      "0    1757            1757  \n",
      "1    1741            1741  \n",
      "2    1729            3470  \n",
      "3    1637            5107  \n",
      "4    1360            6467  \n"
     ]
    }
   ],
   "source": [
    "# lets get the possible combinations of site types and seriesnames and keep the combinations as a\n",
    "# dictionary whose value will be updated when we read a key that matches the type/name combination \n",
    "sitetypes = df['site_type'].unique()\n",
    "seriesnames = df['series_name'].unique()\n",
    "print(sitetypes)\n",
    "print(seriesnames)\n",
    "\n",
    "sitetypeeseriesdict = {}\n",
    "\n",
    "for name in seriesnames:\n",
    "    for type in sitetypes:\n",
    "        dictkey = name + type\n",
    "        sitetypeeseriesdict[dictkey]=0\n",
    "# next lets define the an empty list that will be populated with the sum of starts,\n",
    "sitetypeeseriessum = []\n",
    "\n",
    "#finally iterate through each row to get the site/name combination so that we know what value to increment by\n",
    "# the starts value in the current row.\n",
    "for row in df.itertuples():\n",
    "    dictkeypair = row.series_name + row.site_type\n",
    "    sitetypeeseriesdict[dictkeypair] += row.starts\n",
    "    sitetypeeseriessum.append(sitetypeeseriesdict[dictkeypair])\n",
    "\n",
    "# add the column to the dataframe. \n",
    "df['siteTypeStarts'] = sitetypeeseriessum\n",
    "\n",
    "print(df.head())"
   ]
  },
  {
   "cell_type": "markdown",
   "metadata": {},
   "source": [
    "Step 3: Add a column startOfWeek that holds the Monday date of that week. Assume each week starts on Monday"
   ]
  },
  {
   "cell_type": "code",
   "execution_count": 38,
   "metadata": {},
   "outputs": [
    {
     "name": "stdout",
     "output_type": "stream",
     "text": [
      "  eventdate series_name  episode_name                   site_name site_type  \\\n",
      "0   4/12/19   Blindspot  A Stray Howl          Dish Anywhere MVPD      MVPD   \n",
      "1   4/12/19   Blindspot  A Stray Howl            Bravo FireTV App     Watch   \n",
      "2   4/12/19   Blindspot  A Stray Howl  Bravo Samsung Smart TV App     Watch   \n",
      "3   4/12/19   Blindspot  A Stray Howl   Bravo Android Tablet Apps     Watch   \n",
      "4   4/12/19   Blindspot  A Stray Howl        Bravo Android TV App     Watch   \n",
      "\n",
      "   starts  siteTypeStarts nameOfDay  \n",
      "0    1757            1757    Friday  \n",
      "1    1741            1741    Friday  \n",
      "2    1729            3470    Friday  \n",
      "3    1637            5107    Friday  \n",
      "4    1360            6467    Friday  \n"
     ]
    }
   ],
   "source": [
    "from datetime import datetime\n",
    "# We will take advantage of the isoweekday() method from datetime, by mapping the integer value of the\n",
    "# week as the index for the list daysOftheWeek.\n",
    "daysOftheWeek = (\"ISO Week days start from 1\", \"Monday\", \"Tuesday\", \"Wednesday\", \"Thursday\", \"Friday\", \"Saturday\", \"Sunday\")\n",
    "\n",
    "# create an empty list that will contain the column of the days of the week.\n",
    "nameofday = []\n",
    "\n",
    "#iterate through each row:\n",
    "#   convert the string date into a datetime object\n",
    "#   return a string of the date of the week and then append to the list nameofday\n",
    "\n",
    "for row in df.itertuples():\n",
    "    dt = datetime.strptime(row.eventdate, '%m/%d/%y')\n",
    "    weekday = daysOftheWeek[dt.isoweekday()]\n",
    "    nameofday.append(weekday)\n",
    "\n",
    "# create a column from the list values\n",
    "df['nameOfDay'] = nameofday\n",
    "\n",
    "print(df.head())"
   ]
  },
  {
   "cell_type": "markdown",
   "metadata": {},
   "source": [
    "Step 4: Add a column startOfWeek that holds the Monday date of that week. Assume each week starts on Monday"
   ]
  },
  {
   "cell_type": "code",
   "execution_count": 40,
   "metadata": {},
   "outputs": [
    {
     "name": "stdout",
     "output_type": "stream",
     "text": [
      "<bound method NDFrame.head of       eventdate series_name  episode_name                   site_name  \\\n",
      "0       4/12/19   Blindspot  A Stray Howl          Dish Anywhere MVPD   \n",
      "1       4/12/19   Blindspot  A Stray Howl            Bravo FireTV App   \n",
      "2       4/12/19   Blindspot  A Stray Howl  Bravo Samsung Smart TV App   \n",
      "3       4/12/19   Blindspot  A Stray Howl   Bravo Android Tablet Apps   \n",
      "4       4/12/19   Blindspot  A Stray Howl        Bravo Android TV App   \n",
      "...         ...         ...           ...                         ...   \n",
      "15957    4/5/19  The Office      The Fire     DirecTV Everywhere MVPD   \n",
      "15958    4/5/19  The Office      The Fire          Dish Anywhere MVPD   \n",
      "15959    4/4/19  The Office      The Fire              Sony Vue DMVPD   \n",
      "15960   4/12/19  The Office      The Fire               SlingTV DMVPD   \n",
      "15961    4/9/19  The Office      The Fire          Bravo Apple TV App   \n",
      "\n",
      "      site_type  starts  siteTypeStarts nameOfDay startOfWeek  \n",
      "0          MVPD    1757            1757    Friday    04/08/19  \n",
      "1         Watch    1741            1741    Friday    04/08/19  \n",
      "2         Watch    1729            3470    Friday    04/08/19  \n",
      "3         Watch    1637            5107    Friday    04/08/19  \n",
      "4         Watch    1360            6467    Friday    04/08/19  \n",
      "...         ...     ...             ...       ...         ...  \n",
      "15957      MVPD     155          476409    Friday    04/01/19  \n",
      "15958      MVPD     147          476556    Friday    04/01/19  \n",
      "15959     DMVPD     117          740932  Thursday    04/01/19  \n",
      "15960     DMVPD     109          741041    Friday    04/08/19  \n",
      "15961     Watch     104         1689185   Tuesday    04/08/19  \n",
      "\n",
      "[15962 rows x 9 columns]>\n"
     ]
    }
   ],
   "source": [
    "# we will be using timedelta from datetime to decrement the datetime object, to eventually get to the monday of each week.\n",
    "from datetime import timedelta\n",
    "\n",
    "# create an empty list that will hold the date for the monday of each week.\n",
    "startofweek = []\n",
    "\n",
    "#iterate through each row:\n",
    "#   convert the string date into a datetime object\n",
    "#   calculate the monday date (as dtmonday) by subtracting the current date by (current day of the week - 1) days\n",
    "#   append the value to the startof week list\n",
    "for row in df.itertuples():\n",
    "    dt = datetime.strptime(row.eventdate, '%m/%d/%y')\n",
    "    dtmonday = dt - timedelta(days=(dt.isoweekday()-1))\n",
    "    startofweek.append(datetime.strftime(dtmonday,'%m/%d/%y'))\n",
    "\n",
    "# create a new column labled 'startOfweek' using the list we populated before.\n",
    "df['startOfWeek'] = startofweek\n",
    "print(df.head)\n"
   ]
  },
  {
   "cell_type": "markdown",
   "metadata": {},
   "source": [
    "Step 5: Write the data frame, not including index numbers, to a comma-separated file named Answers.csv"
   ]
  },
  {
   "cell_type": "code",
   "execution_count": 41,
   "metadata": {},
   "outputs": [],
   "source": [
    "# use pandas pd to csv to save your answers\n",
    "df.to_csv('Answers.csv')"
   ]
  }
 ],
 "metadata": {
  "kernelspec": {
   "display_name": "Python 3.10.6 64-bit",
   "language": "python",
   "name": "python3"
  },
  "language_info": {
   "codemirror_mode": {
    "name": "ipython",
    "version": 3
   },
   "file_extension": ".py",
   "mimetype": "text/x-python",
   "name": "python",
   "nbconvert_exporter": "python",
   "pygments_lexer": "ipython3",
   "version": "3.10.6"
  },
  "orig_nbformat": 4,
  "vscode": {
   "interpreter": {
    "hash": "b0fa6594d8f4cbf19f97940f81e996739fb7646882a419484c72d19e05852a7e"
   }
  }
 },
 "nbformat": 4,
 "nbformat_minor": 2
}
